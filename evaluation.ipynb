{
 "cells": [
  {
   "cell_type": "code",
   "execution_count": 84,
   "metadata": {},
   "outputs": [],
   "source": [
    "import utils\n",
    "import pandas as pd"
   ]
  },
  {
   "cell_type": "markdown",
   "metadata": {},
   "source": [
    "Load the data and the ideal models for modulation and tonicization"
   ]
  },
  {
   "cell_type": "code",
   "execution_count": 85,
   "metadata": {},
   "outputs": [],
   "source": [
    "df, dfm, dft = utils.load_dataset('all_files')"
   ]
  },
  {
   "cell_type": "markdown",
   "metadata": {},
   "source": [
    "Load the data from the `justkeydding` predictions"
   ]
  },
  {
   "cell_type": "code",
   "execution_count": 86,
   "metadata": {},
   "outputs": [],
   "source": [
    "dfjk = utils.justkeydding_to_dfdictionary('run_justkeydding.tsv')"
   ]
  },
  {
   "cell_type": "markdown",
   "metadata": {},
   "source": [
    "Decide the evaluation parameters"
   ]
  },
  {
   "cell_type": "code",
   "execution_count": 140,
   "metadata": {},
   "outputs": [],
   "source": [
    "# Model to evaluate\n",
    "model = dfjk\n",
    "# Task to evaluate\n",
    "task_dict = {\n",
    "    'modulation': 'local_key_label', \n",
    "    'tonicization': 'tonicized_key_label'\n",
    "}\n",
    "task = task_dict['modulation']"
   ]
  },
  {
   "cell_type": "markdown",
   "metadata": {},
   "source": [
    "Make a sanity check that verifies that the index of the predictions matches the index of the ground truth annotations"
   ]
  },
  {
   "cell_type": "code",
   "execution_count": 141,
   "metadata": {},
   "outputs": [
    {
     "name": "stdout",
     "output_type": "stream",
     "text": [
      "Nice! No errors in the indexes!\n"
     ]
    }
   ],
   "source": [
    "errors = 0\n",
    "for f in list(df.keys()):\n",
    "    if not df[f].index.equals(dfjk[f].index):\n",
    "        print(f\"Warning. Index of file {f} doesn't match the index of ground truth\")\n",
    "        print(df[f].index.difference(dfjk[f].index))\n",
    "        errors += 1\n",
    "if errors == 0:\n",
    "    print('Nice! No errors in the indexes!')"
   ]
  },
  {
   "cell_type": "markdown",
   "metadata": {},
   "source": [
    "If no errors, start the evaluation"
   ]
  },
  {
   "cell_type": "code",
   "execution_count": 142,
   "metadata": {},
   "outputs": [],
   "source": [
    "def score_slice(evaldfrow):\n",
    "    gt, pred = evaldfrow\n",
    "    score = utils.score_key_prediction(gt, pred)\n",
    "    return score"
   ]
  },
  {
   "cell_type": "code",
   "execution_count": 143,
   "metadata": {},
   "outputs": [],
   "source": [
    "scoredict = {}\n",
    "for f in list(df.keys()):\n",
    "    # Create the evaluation dataframe\n",
    "    dfeval = pd.DataFrame(index=df[f].index)\n",
    "    dfeval['gt'] = df[f][task]\n",
    "    dfeval['pred'] = model[f].local_key_label    \n",
    "    dfeval['score'] = dfeval.apply(score_slice, axis=1, raw=True)\n",
    "    score = dfeval['score'].sum() / dfeval.index.size\n",
    "    scoredict[f] = score"
   ]
  },
  {
   "cell_type": "code",
   "execution_count": 144,
   "metadata": {},
   "outputs": [
    {
     "name": "stdout",
     "output_type": "stream",
     "text": [
      "0    0.548062\n",
      "dtype: float64 0    0.235816\n",
      "dtype: float64 0    0.033333\n",
      "dtype: float64 0    1.0\n",
      "dtype: float64\n"
     ]
    }
   ],
   "source": [
    "scoredf = pd.DataFrame(scoredict.values())\n",
    "print(scoredf.mean(), scoredf.std(), scoredf.min(), scoredf.max())"
   ]
  },
  {
   "cell_type": "code",
   "execution_count": null,
   "metadata": {},
   "outputs": [],
   "source": []
  }
 ],
 "metadata": {
  "kernelspec": {
   "display_name": "Python 3",
   "language": "python",
   "name": "python3"
  },
  "language_info": {
   "codemirror_mode": {
    "name": "ipython",
    "version": 3
   },
   "file_extension": ".py",
   "mimetype": "text/x-python",
   "name": "python",
   "nbconvert_exporter": "python",
   "pygments_lexer": "ipython3",
   "version": "3.8.2"
  }
 },
 "nbformat": 4,
 "nbformat_minor": 4
}
